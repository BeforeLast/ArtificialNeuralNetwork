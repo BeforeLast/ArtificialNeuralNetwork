{
 "cells": [
  {
   "cell_type": "markdown",
   "metadata": {},
   "source": [
    "# IMPORTS"
   ]
  },
  {
   "cell_type": "code",
   "execution_count": 8,
   "metadata": {},
   "outputs": [],
   "source": [
    "import os\n",
    "from classes.layers.Conv2D import Conv2D\n",
    "from classes.layers.Dense import Dense\n",
    "from classes.layers.Flatten import Flatten\n",
    "from classes.layers.Input import InputLayer\n",
    "from classes.models.Sequential import Sequential\n",
    "from classes.utils.ImageConvert import ImageConvert"
   ]
  },
  {
   "cell_type": "markdown",
   "metadata": {},
   "source": [
    "# DATA PREPROCESSING"
   ]
  },
  {
   "cell_type": "code",
   "execution_count": 28,
   "metadata": {},
   "outputs": [],
   "source": [
    "ic = ImageConvert(\n",
    "        rotate=30.,\n",
    "        rescale=1./255.)\n",
    "data_gen = ic.from_directory(os.path.join('.','data','test'), (256,256), mode='binary', color_mode='rgb')"
   ]
  },
  {
   "cell_type": "markdown",
   "metadata": {},
   "source": [
    "# MODEL"
   ]
  },
  {
   "cell_type": "markdown",
   "metadata": {},
   "source": [
    "## Instantiating"
   ]
  },
  {
   "cell_type": "code",
   "execution_count": 29,
   "metadata": {},
   "outputs": [],
   "source": [
    "model = Sequential([\n",
    "        InputLayer(input_shape=(256,256,3)),\n",
    "        Conv2D(2, (16, 16), activation='relu'),\n",
    "        Flatten(),\n",
    "        Dense(16, activation='relu'),\n",
    "        Dense(1, activation='sigmoid')\n",
    "    ])\n",
    "\n",
    "model.compile()"
   ]
  },
  {
   "cell_type": "markdown",
   "metadata": {},
   "source": [
    "## Training"
   ]
  },
  {
   "cell_type": "code",
   "execution_count": null,
   "metadata": {},
   "outputs": [],
   "source": [
    "# NOT YET IMPLEMENTED"
   ]
  },
  {
   "cell_type": "markdown",
   "metadata": {},
   "source": [
    "## Testing"
   ]
  },
  {
   "cell_type": "code",
   "execution_count": 30,
   "metadata": {},
   "outputs": [
    {
     "name": "stdout",
     "output_type": "stream",
     "text": [
      "Step: 1/10\n",
      "Step: 2/10\n",
      "Step: 3/10\n",
      "Step: 4/10\n",
      "Step: 5/10\n",
      "Step: 6/10\n",
      "Step: 7/10\n",
      "Step: 8/10\n",
      "Step: 9/10\n",
      "Step: 10/10\n"
     ]
    },
    {
     "data": {
      "text/plain": [
       "{'results': [array([1.]),\n",
       "  array([1.]),\n",
       "  array([1.]),\n",
       "  array([1.]),\n",
       "  array([1.]),\n",
       "  array([1.]),\n",
       "  array([1.]),\n",
       "  array([1.]),\n",
       "  array([1.]),\n",
       "  array([1.])],\n",
       " 'true_labels': [1, 1, 0, 0, 1, 0, 0, 0, 0, 0]}"
      ]
     },
     "execution_count": 30,
     "metadata": {},
     "output_type": "execute_result"
    }
   ],
   "source": [
    "# CULL DATA\n",
    "data_gen.shuffle_data_label = data_gen.shuffle_data_label[:10]\n",
    "\n",
    "# TEST\n",
    "model.predict(data_gen)"
   ]
  },
  {
   "cell_type": "code",
   "execution_count": null,
   "metadata": {},
   "outputs": [],
   "source": []
  }
 ],
 "metadata": {
  "kernelspec": {
   "display_name": "Python 3",
   "language": "python",
   "name": "python3"
  },
  "language_info": {
   "codemirror_mode": {
    "name": "ipython",
    "version": 3
   },
   "file_extension": ".py",
   "mimetype": "text/x-python",
   "name": "python",
   "nbconvert_exporter": "python",
   "pygments_lexer": "ipython3",
   "version": "3.8.6"
  },
  "vscode": {
   "interpreter": {
    "hash": "c9863654f73317bec94cda1bdb7b80ecbb4fd3c0d86145d415009309a0233a2d"
   }
  }
 },
 "nbformat": 4,
 "nbformat_minor": 4
}

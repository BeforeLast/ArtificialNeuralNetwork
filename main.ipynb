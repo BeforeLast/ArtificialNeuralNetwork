{
 "cells": [
  {
   "cell_type": "markdown",
   "metadata": {},
   "source": [
    "# IMPORTS"
   ]
  },
  {
   "cell_type": "code",
   "execution_count": 1,
   "metadata": {},
   "outputs": [],
   "source": [
    "import os\n",
    "from classes.layers.Conv2D import Conv2D\n",
    "from classes.layers.Dense import Dense\n",
    "from classes.layers.Flatten import Flatten\n",
    "from classes.layers.Input import InputLayer\n",
    "from classes.models.Sequential import Sequential\n",
    "from classes.utils.ImageConvert import ImageConvert"
   ]
  },
  {
   "cell_type": "markdown",
   "metadata": {},
   "source": [
    "# DATA PREPROCESSING"
   ]
  },
  {
   "cell_type": "code",
   "execution_count": 2,
   "metadata": {},
   "outputs": [],
   "source": [
    "ic_test = ImageConvert(\n",
    "        rotate=30.,\n",
    "        rescale=1./255.)\n",
    "data_test_gen = ic_test.from_directory(os.path.join('.','data','test'), (256,256), mode='binary', color_mode='rgb')\n",
    "\n",
    "ic_train = ImageConvert(\n",
    "        rotate=30.,\n",
    "        rescale=1./255.)\n",
    "data_train_gen = ic_train.from_directory(os.path.join('.','data','train'), (256,256), mode='binary', color_mode='rgb')"
   ]
  },
  {
   "cell_type": "markdown",
   "metadata": {},
   "source": [
    "# MODEL"
   ]
  },
  {
   "cell_type": "markdown",
   "metadata": {},
   "source": [
    "## Instantiating"
   ]
  },
  {
   "cell_type": "code",
   "execution_count": 3,
   "metadata": {},
   "outputs": [],
   "source": [
    "model = Sequential([\n",
    "        InputLayer(input_shape=(256,256,3)),\n",
    "        Conv2D(2, (16, 16), activation='relu'),\n",
    "        Flatten(),\n",
    "        Dense(16, activation='relu'),\n",
    "        Dense(1, activation='sigmoid')\n",
    "    ])\n",
    "\n",
    "model.compile()"
   ]
  },
  {
   "cell_type": "markdown",
   "metadata": {},
   "source": [
    "## Training"
   ]
  },
  {
   "cell_type": "code",
   "execution_count": 7,
   "metadata": {},
   "outputs": [
    {
     "data": {
      "text/plain": [
       "[{'label': 1, 'data': '.\\\\data\\\\train\\\\dogs\\\\dog.6833.jpg'},\n",
       " {'label': 1, 'data': '.\\\\data\\\\train\\\\dogs\\\\dog.75.jpg'},\n",
       " {'label': 1, 'data': '.\\\\data\\\\train\\\\dogs\\\\dog.124.jpg'},\n",
       " {'label': 1, 'data': '.\\\\data\\\\train\\\\dogs\\\\dog.106.jpg'},\n",
       " {'label': 1, 'data': '.\\\\data\\\\train\\\\dogs\\\\dog.120.jpg'},\n",
       " {'label': 1, 'data': '.\\\\data\\\\train\\\\dogs\\\\dog.86.jpg'},\n",
       " {'label': 0, 'data': '.\\\\data\\\\test\\\\cats\\\\cat.15.jpg'},\n",
       " {'label': 1, 'data': '.\\\\data\\\\test\\\\dogs\\\\dog.42.jpg'},\n",
       " {'label': 1, 'data': '.\\\\data\\\\test\\\\dogs\\\\dog.38.jpg'},\n",
       " {'label': 1, 'data': '.\\\\data\\\\train\\\\dogs\\\\dog.81.jpg'},\n",
       " {'label': 0, 'data': '.\\\\data\\\\test\\\\cats\\\\cat.60.jpg'},\n",
       " {'label': 1, 'data': '.\\\\data\\\\train\\\\dogs\\\\dog.95.jpg'},\n",
       " {'label': 0, 'data': '.\\\\data\\\\train\\\\cats\\\\cat.5.jpg'},\n",
       " {'label': 1, 'data': '.\\\\data\\\\train\\\\dogs\\\\dog.79.jpg'},\n",
       " {'label': 0, 'data': '.\\\\data\\\\test\\\\cats\\\\cat.48.jpg'},\n",
       " {'label': 0, 'data': '.\\\\data\\\\test\\\\cats\\\\cat.19.jpg'},\n",
       " {'label': 1, 'data': '.\\\\data\\\\test\\\\dogs\\\\dog.63.jpg'},\n",
       " {'label': 1, 'data': '.\\\\data\\\\train\\\\dogs\\\\dog.121.jpg'},\n",
       " {'label': 0, 'data': '.\\\\data\\\\test\\\\cats\\\\cat.38.jpg'},\n",
       " {'label': 0, 'data': '.\\\\data\\\\test\\\\cats\\\\cat.50.jpg'},\n",
       " {'label': 1, 'data': '.\\\\data\\\\train\\\\dogs\\\\dog.83.jpg'},\n",
       " {'label': 1, 'data': '.\\\\data\\\\train\\\\dogs\\\\dog.100.jpg'},\n",
       " {'label': 1, 'data': '.\\\\data\\\\test\\\\dogs\\\\dog.5.jpg'},\n",
       " {'label': 1, 'data': '.\\\\data\\\\train\\\\dogs\\\\dog.56.jpg'},\n",
       " {'label': 1, 'data': '.\\\\data\\\\train\\\\dogs\\\\dog.82.jpg'},\n",
       " {'label': 1, 'data': '.\\\\data\\\\test\\\\dogs\\\\dog.50.jpg'},\n",
       " {'label': 1, 'data': '.\\\\data\\\\train\\\\dogs\\\\dog.93.jpg'},\n",
       " {'label': 1, 'data': '.\\\\data\\\\train\\\\dogs\\\\dog.69.jpg'},\n",
       " {'label': 1, 'data': '.\\\\data\\\\train\\\\dogs\\\\dog.64.jpg'},\n",
       " {'label': 1, 'data': '.\\\\data\\\\test\\\\dogs\\\\dog.9.jpg'},\n",
       " {'label': 1, 'data': '.\\\\data\\\\train\\\\dogs\\\\dog.14.jpg'},\n",
       " {'label': 1, 'data': '.\\\\data\\\\test\\\\dogs\\\\dog.61.jpg'},\n",
       " {'label': 1, 'data': '.\\\\data\\\\train\\\\dogs\\\\dog.98.jpg'},\n",
       " {'label': 0, 'data': '.\\\\data\\\\test\\\\cats\\\\cat.21.jpg'},\n",
       " {'label': 1, 'data': '.\\\\data\\\\train\\\\dogs\\\\dog.29.jpg'},\n",
       " {'label': 1, 'data': '.\\\\data\\\\train\\\\dogs\\\\dog.39.jpg'},\n",
       " {'label': 1, 'data': '.\\\\data\\\\train\\\\dogs\\\\dog.12.jpg'},\n",
       " {'label': 1, 'data': '.\\\\data\\\\train\\\\dogs\\\\dog.18.jpg'},\n",
       " {'label': 1, 'data': '.\\\\data\\\\test\\\\dogs\\\\dog.4.jpg'},\n",
       " {'label': 1, 'data': '.\\\\data\\\\train\\\\dogs\\\\dog.62.jpg'},\n",
       " {'label': 1, 'data': '.\\\\data\\\\train\\\\dogs\\\\dog.122.jpg'},\n",
       " {'label': 1, 'data': '.\\\\data\\\\train\\\\dogs\\\\dog.87.jpg'},\n",
       " {'label': 1, 'data': '.\\\\data\\\\train\\\\dogs\\\\dog.33.jpg'},\n",
       " {'label': 1, 'data': '.\\\\data\\\\train\\\\dogs\\\\dog.15.jpg'},\n",
       " {'label': 1, 'data': '.\\\\data\\\\train\\\\dogs\\\\dog.32.jpg'},\n",
       " {'label': 1, 'data': '.\\\\data\\\\train\\\\dogs\\\\dog.43.jpg'},\n",
       " {'label': 1, 'data': '.\\\\data\\\\train\\\\dogs\\\\dog.47.jpg'},\n",
       " {'label': 1, 'data': '.\\\\data\\\\test\\\\dogs\\\\dog.3.jpg'},\n",
       " {'label': 1, 'data': '.\\\\data\\\\test\\\\dogs\\\\dog.60.jpg'},\n",
       " {'label': 1, 'data': '.\\\\data\\\\train\\\\dogs\\\\dog.108.jpg'},\n",
       " {'label': 0, 'data': '.\\\\data\\\\test\\\\cats\\\\cat.45.jpg'},\n",
       " {'label': 1, 'data': '.\\\\data\\\\test\\\\dogs\\\\dog.58.jpg'},\n",
       " {'label': 1, 'data': '.\\\\data\\\\train\\\\dogs\\\\dog.27.jpg'},\n",
       " {'label': 1, 'data': '.\\\\data\\\\test\\\\dogs\\\\dog.30.jpg'},\n",
       " {'label': 0, 'data': '.\\\\data\\\\test\\\\cats\\\\cat.60.jpg'},\n",
       " {'label': 1, 'data': '.\\\\data\\\\train\\\\dogs\\\\dog.13.jpg'},\n",
       " {'label': 1, 'data': '.\\\\data\\\\train\\\\dogs\\\\dog.102.jpg'},\n",
       " {'label': 1, 'data': '.\\\\data\\\\train\\\\dogs\\\\dog.59.jpg'},\n",
       " {'label': 1, 'data': '.\\\\data\\\\train\\\\dogs\\\\dog.10.jpg'},\n",
       " {'label': 0, 'data': '.\\\\data\\\\test\\\\cats\\\\cat.9.jpg'},\n",
       " {'label': 1, 'data': '.\\\\data\\\\train\\\\dogs\\\\dog.37.jpg'},\n",
       " {'label': 0, 'data': '.\\\\data\\\\test\\\\cats\\\\cat.36.jpg'},\n",
       " {'label': 1, 'data': '.\\\\data\\\\test\\\\dogs\\\\dog.51.jpg'},\n",
       " {'label': 1, 'data': '.\\\\data\\\\train\\\\dogs\\\\dog.1.jpg'},\n",
       " {'label': 0, 'data': '.\\\\data\\\\test\\\\cats\\\\cat.49.jpg'},\n",
       " {'label': 1, 'data': '.\\\\data\\\\train\\\\dogs\\\\dog.76.jpg'},\n",
       " {'label': 1, 'data': '.\\\\data\\\\test\\\\dogs\\\\dog.36.jpg'},\n",
       " {'label': 1, 'data': '.\\\\data\\\\train\\\\dogs\\\\dog.21.jpg'},\n",
       " {'label': 1, 'data': '.\\\\data\\\\train\\\\dogs\\\\dog.20.jpg'},\n",
       " {'label': 1, 'data': '.\\\\data\\\\train\\\\dogs\\\\dog.35.jpg'},\n",
       " {'label': 0, 'data': '.\\\\data\\\\test\\\\cats\\\\cat.36.jpg'},\n",
       " {'label': 0, 'data': '.\\\\data\\\\test\\\\cats\\\\cat.58.jpg'},\n",
       " {'label': 1, 'data': '.\\\\data\\\\test\\\\dogs\\\\dog.34.jpg'},\n",
       " {'label': 1, 'data': '.\\\\data\\\\train\\\\dogs\\\\dog.113.jpg'},\n",
       " {'label': 1, 'data': '.\\\\data\\\\train\\\\dogs\\\\dog.54.jpg'},\n",
       " {'label': 0, 'data': '.\\\\data\\\\test\\\\cats\\\\cat.2.jpg'},\n",
       " {'label': 1, 'data': '.\\\\data\\\\train\\\\dogs\\\\dog.46.jpg'},\n",
       " {'label': 1, 'data': '.\\\\data\\\\train\\\\dogs\\\\dog.96.jpg'},\n",
       " {'label': 1, 'data': '.\\\\data\\\\train\\\\dogs\\\\dog.23.jpg'},\n",
       " {'label': 0, 'data': '.\\\\data\\\\test\\\\cats\\\\cat.21.jpg'},\n",
       " {'label': 1, 'data': '.\\\\data\\\\train\\\\dogs\\\\dog.49.jpg'},\n",
       " {'label': 0, 'data': '.\\\\data\\\\train\\\\cats\\\\cat.4.jpg'},\n",
       " {'label': 1, 'data': '.\\\\data\\\\train\\\\dogs\\\\dog.48.jpg'},\n",
       " {'label': 1, 'data': '.\\\\data\\\\train\\\\dogs\\\\dog.77.jpg'},\n",
       " {'label': 0, 'data': '.\\\\data\\\\test\\\\cats\\\\cat.71.jpg'},\n",
       " {'label': 1, 'data': '.\\\\data\\\\test\\\\dogs\\\\dog.4.jpg'},\n",
       " {'label': 1, 'data': '.\\\\data\\\\test\\\\dogs\\\\dog.8.jpg'},\n",
       " {'label': 0, 'data': '.\\\\data\\\\test\\\\cats\\\\cat.15.jpg'},\n",
       " {'label': 1, 'data': '.\\\\data\\\\test\\\\dogs\\\\dog.40.jpg'},\n",
       " {'label': 1, 'data': '.\\\\data\\\\train\\\\dogs\\\\dog.45.jpg'},\n",
       " {'label': 1, 'data': '.\\\\data\\\\train\\\\dogs\\\\dog.17.jpg'},\n",
       " {'label': 1, 'data': '.\\\\data\\\\train\\\\dogs\\\\dog.31.jpg'},\n",
       " {'label': 1, 'data': '.\\\\data\\\\test\\\\dogs\\\\dog.34.jpg'},\n",
       " {'label': 1, 'data': '.\\\\data\\\\test\\\\dogs\\\\dog.50.jpg'},\n",
       " {'label': 1, 'data': '.\\\\data\\\\train\\\\dogs\\\\dog.52.jpg'},\n",
       " {'label': 0, 'data': '.\\\\data\\\\test\\\\cats\\\\cat.19.jpg'},\n",
       " {'label': 1, 'data': '.\\\\data\\\\train\\\\dogs\\\\dog.105.jpg'},\n",
       " {'label': 0, 'data': '.\\\\data\\\\test\\\\cats\\\\cat.0.jpg'},\n",
       " {'label': 1, 'data': '.\\\\data\\\\train\\\\dogs\\\\dog.53.jpg'},\n",
       " {'label': 1, 'data': '.\\\\data\\\\train\\\\dogs\\\\dog.22.jpg'},\n",
       " {'label': 0, 'data': '.\\\\data\\\\test\\\\cats\\\\cat.58.jpg'},\n",
       " {'label': 1, 'data': '.\\\\data\\\\train\\\\dogs\\\\dog.71.jpg'},\n",
       " {'label': 1, 'data': '.\\\\data\\\\train\\\\dogs\\\\dog.109.jpg'},\n",
       " {'label': 1, 'data': '.\\\\data\\\\test\\\\dogs\\\\dog.24.jpg'},\n",
       " {'label': 1, 'data': '.\\\\data\\\\train\\\\dogs\\\\dog.74.jpg'},\n",
       " {'label': 1, 'data': '.\\\\data\\\\test\\\\dogs\\\\dog.42.jpg'},\n",
       " {'label': 1, 'data': '.\\\\data\\\\train\\\\dogs\\\\dog.68.jpg'},\n",
       " {'label': 1, 'data': '.\\\\data\\\\train\\\\dogs\\\\dog.2.jpg'},\n",
       " {'label': 1, 'data': '.\\\\data\\\\train\\\\dogs\\\\dog.119.jpg'},\n",
       " {'label': 0, 'data': '.\\\\data\\\\test\\\\cats\\\\cat.71.jpg'},\n",
       " {'label': 1, 'data': '.\\\\data\\\\train\\\\dogs\\\\dog.123.jpg'},\n",
       " {'label': 1, 'data': '.\\\\data\\\\test\\\\dogs\\\\dog.63.jpg'},\n",
       " {'label': 1, 'data': '.\\\\data\\\\train\\\\dogs\\\\dog.55.jpg'},\n",
       " {'label': 1, 'data': '.\\\\data\\\\test\\\\dogs\\\\dog.25.jpg'},\n",
       " {'label': 1, 'data': '.\\\\data\\\\train\\\\dogs\\\\dog.6.jpg'},\n",
       " {'label': 1, 'data': '.\\\\data\\\\test\\\\dogs\\\\dog.25.jpg'},\n",
       " {'label': 1, 'data': '.\\\\data\\\\train\\\\dogs\\\\dog.70.jpg'},\n",
       " {'label': 1, 'data': '.\\\\data\\\\test\\\\dogs\\\\dog.60.jpg'},\n",
       " {'label': 1, 'data': '.\\\\data\\\\test\\\\dogs\\\\dog.36.jpg'},\n",
       " {'label': 1, 'data': '.\\\\data\\\\train\\\\dogs\\\\dog.104.jpg'},\n",
       " {'label': 1, 'data': '.\\\\data\\\\train\\\\dogs\\\\dog.7.jpg'},\n",
       " {'label': 0, 'data': '.\\\\data\\\\test\\\\cats\\\\cat.50.jpg'},\n",
       " {'label': 1, 'data': '.\\\\data\\\\test\\\\dogs\\\\dog.40.jpg'},\n",
       " {'label': 0, 'data': '.\\\\data\\\\test\\\\cats\\\\cat.17.jpg'},\n",
       " {'label': 1, 'data': '.\\\\data\\\\test\\\\dogs\\\\dog.8.jpg'},\n",
       " {'label': 1, 'data': '.\\\\data\\\\train\\\\dogs\\\\dog.114.jpg'},\n",
       " {'label': 1, 'data': '.\\\\data\\\\train\\\\dogs\\\\dog.16.jpg'},\n",
       " {'label': 0, 'data': '.\\\\data\\\\train\\\\cats\\\\cat.3.jpg'},\n",
       " {'label': 0, 'data': '.\\\\data\\\\train\\\\cats\\\\cat.1.jpg'},\n",
       " {'label': 1, 'data': '.\\\\data\\\\train\\\\dogs\\\\dog.44.jpg'},\n",
       " {'label': 0, 'data': '.\\\\data\\\\test\\\\cats\\\\cat.23.jpg'},\n",
       " {'label': 1, 'data': '.\\\\data\\\\train\\\\dogs\\\\dog.89.jpg'},\n",
       " {'label': 1, 'data': '.\\\\data\\\\test\\\\dogs\\\\dog.30.jpg'},\n",
       " {'label': 0, 'data': '.\\\\data\\\\test\\\\cats\\\\cat.0.jpg'},\n",
       " {'label': 1, 'data': '.\\\\data\\\\test\\\\dogs\\\\dog.51.jpg'},\n",
       " {'label': 1, 'data': '.\\\\data\\\\train\\\\dogs\\\\dog.11.jpg'},\n",
       " {'label': 0, 'data': '.\\\\data\\\\test\\\\cats\\\\cat.40.jpg'},\n",
       " {'label': 0, 'data': '.\\\\data\\\\test\\\\cats\\\\cat.26.jpg'},\n",
       " {'label': 1, 'data': '.\\\\data\\\\test\\\\dogs\\\\dog.3.jpg'},\n",
       " {'label': 1, 'data': '.\\\\data\\\\test\\\\dogs\\\\dog.0.jpg'},\n",
       " {'label': 1, 'data': '.\\\\data\\\\train\\\\dogs\\\\dog.99.jpg'},\n",
       " {'label': 0, 'data': '.\\\\data\\\\test\\\\cats\\\\cat.26.jpg'},\n",
       " {'label': 0, 'data': '.\\\\data\\\\test\\\\cats\\\\cat.40.jpg'},\n",
       " {'label': 1, 'data': '.\\\\data\\\\train\\\\dogs\\\\dog.26.jpg'},\n",
       " {'label': 1, 'data': '.\\\\data\\\\train\\\\dogs\\\\dog.73.jpg'},\n",
       " {'label': 1, 'data': '.\\\\data\\\\test\\\\dogs\\\\dog.0.jpg'},\n",
       " {'label': 1, 'data': '.\\\\data\\\\train\\\\dogs\\\\dog.90.jpg'},\n",
       " {'label': 0, 'data': '.\\\\data\\\\test\\\\cats\\\\cat.17.jpg'},\n",
       " {'label': 0, 'data': '.\\\\data\\\\test\\\\cats\\\\cat.9.jpg'},\n",
       " {'label': 1, 'data': '.\\\\data\\\\train\\\\dogs\\\\dog.67.jpg'},\n",
       " {'label': 1, 'data': '.\\\\data\\\\test\\\\dogs\\\\dog.24.jpg'},\n",
       " {'label': 1, 'data': '.\\\\data\\\\train\\\\dogs\\\\dog.28.jpg'},\n",
       " {'label': 1, 'data': '.\\\\data\\\\train\\\\dogs\\\\dog.78.jpg'},\n",
       " {'label': 1, 'data': '.\\\\data\\\\train\\\\dogs\\\\dog.118.jpg'},\n",
       " {'label': 1, 'data': '.\\\\data\\\\train\\\\dogs\\\\dog.57.jpg'},\n",
       " {'label': 1, 'data': '.\\\\data\\\\train\\\\dogs\\\\dog.41.jpg'},\n",
       " {'label': 0, 'data': '.\\\\data\\\\test\\\\cats\\\\cat.23.jpg'},\n",
       " {'label': 0, 'data': '.\\\\data\\\\test\\\\cats\\\\cat.48.jpg'},\n",
       " {'label': 0, 'data': '.\\\\data\\\\test\\\\cats\\\\cat.38.jpg'},\n",
       " {'label': 0, 'data': '.\\\\data\\\\test\\\\cats\\\\cat.61.jpg'},\n",
       " {'label': 1, 'data': '.\\\\data\\\\train\\\\dogs\\\\dog.97.jpg'},\n",
       " {'label': 1, 'data': '.\\\\data\\\\train\\\\dogs\\\\dog.101.jpg'},\n",
       " {'label': 0, 'data': '.\\\\data\\\\test\\\\cats\\\\cat.2.jpg'},\n",
       " {'label': 0, 'data': '.\\\\data\\\\test\\\\cats\\\\cat.49.jpg'},\n",
       " {'label': 1, 'data': '.\\\\data\\\\test\\\\dogs\\\\dog.38.jpg'},\n",
       " {'label': 1, 'data': '.\\\\data\\\\train\\\\dogs\\\\dog.19.jpg'},\n",
       " {'label': 1, 'data': '.\\\\data\\\\test\\\\dogs\\\\dog.58.jpg'},\n",
       " {'label': 1, 'data': '.\\\\data\\\\test\\\\dogs\\\\dog.5.jpg'},\n",
       " {'label': 0, 'data': '.\\\\data\\\\test\\\\cats\\\\cat.61.jpg'},\n",
       " {'label': 0, 'data': '.\\\\data\\\\test\\\\cats\\\\cat.45.jpg'},\n",
       " {'label': 1, 'data': '.\\\\data\\\\train\\\\dogs\\\\dog.115.jpg'},\n",
       " {'label': 1, 'data': '.\\\\data\\\\test\\\\dogs\\\\dog.61.jpg'},\n",
       " {'label': 1, 'data': '.\\\\data\\\\train\\\\dogs\\\\dog.65.jpg'},\n",
       " {'label': 1, 'data': '.\\\\data\\\\test\\\\dogs\\\\dog.9.jpg'},\n",
       " {'label': 1, 'data': '.\\\\data\\\\train\\\\dogs\\\\dog.80.jpg'}]"
      ]
     },
     "execution_count": 7,
     "metadata": {},
     "output_type": "execute_result"
    }
   ],
   "source": [
    "model.fit(data_train_gen, 20, 1, 0.2, verbose=True)"
   ]
  },
  {
   "cell_type": "markdown",
   "metadata": {},
   "source": [
    "## Testing"
   ]
  },
  {
   "cell_type": "code",
   "execution_count": 5,
   "metadata": {},
   "outputs": [
    {
     "ename": "NameError",
     "evalue": "name 'data_gen' is not defined",
     "output_type": "error",
     "traceback": [
      "\u001b[1;31m---------------------------------------------------------------------------\u001b[0m",
      "\u001b[1;31mNameError\u001b[0m                                 Traceback (most recent call last)",
      "Cell \u001b[1;32mIn [5], line 2\u001b[0m\n\u001b[0;32m      1\u001b[0m \u001b[38;5;66;03m# CULL DATA\u001b[39;00m\n\u001b[1;32m----> 2\u001b[0m data_gen\u001b[38;5;241m.\u001b[39mshuffle_data_label \u001b[38;5;241m=\u001b[39m data_gen\u001b[38;5;241m.\u001b[39mshuffle_data_label[:\u001b[38;5;241m10\u001b[39m]\n\u001b[0;32m      4\u001b[0m \u001b[38;5;66;03m# TEST\u001b[39;00m\n\u001b[0;32m      5\u001b[0m model\u001b[38;5;241m.\u001b[39mpredict(data_gen)\n",
      "\u001b[1;31mNameError\u001b[0m: name 'data_gen' is not defined"
     ]
    }
   ],
   "source": [
    "# CULL DATA\n",
    "data_gen.shuffle_data_label = data_gen.shuffle_data_label[:10]\n",
    "\n",
    "# TEST\n",
    "model.predict(data_gen)"
   ]
  },
  {
   "cell_type": "code",
   "execution_count": null,
   "metadata": {},
   "outputs": [],
   "source": []
  }
 ],
 "metadata": {
  "kernelspec": {
   "display_name": "Python 3.10.7 64-bit",
   "language": "python",
   "name": "python3"
  },
  "language_info": {
   "codemirror_mode": {
    "name": "ipython",
    "version": 3
   },
   "file_extension": ".py",
   "mimetype": "text/x-python",
   "name": "python",
   "nbconvert_exporter": "python",
   "pygments_lexer": "ipython3",
   "version": "3.10.7"
  },
  "vscode": {
   "interpreter": {
    "hash": "181c9cc779eabb5679403462788feb2b291f3329287e5c484a59db5b02166bec"
   }
  }
 },
 "nbformat": 4,
 "nbformat_minor": 4
}

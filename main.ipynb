{
 "cells": [
  {
   "cell_type": "markdown",
   "metadata": {},
   "source": [
    "# IMPORTS"
   ]
  },
  {
   "cell_type": "code",
   "execution_count": 1,
   "metadata": {},
   "outputs": [],
   "source": [
    "import os\n",
    "from classes.layers.Conv2D import Conv2D\n",
    "from classes.layers.Dense import Dense\n",
    "from classes.layers.Flatten import Flatten\n",
    "from classes.layers.Input import InputLayer\n",
    "from classes.models.Sequential import Sequential\n",
    "from classes.utils.ImageConvert import ImageConvert\n",
    "from classes.misc.BinaryCrossEntropy import BinaryCrossEntropy"
   ]
  },
  {
   "cell_type": "markdown",
   "metadata": {},
   "source": [
    "# DATA PREPROCESSING"
   ]
  },
  {
   "cell_type": "code",
   "execution_count": 2,
   "metadata": {},
   "outputs": [],
   "source": [
    "ic_train = ImageConvert(\n",
    "        rotate=30.,\n",
    "        rescale=1./255.)\n",
    "data_train_gen = ic_train.from_directory(os.path.join('.','data','train'), (256,256), mode='binary', color_mode='rgb')\n",
    "\n",
    "ic_test = ImageConvert(\n",
    "        rotate=30.,\n",
    "        rescale=1./255.)\n",
    "data_test_gen = ic_test.from_directory(os.path.join('.','data','test'), (256,256), mode='binary', color_mode='rgb')"
   ]
  },
  {
   "cell_type": "code",
   "execution_count": 3,
   "metadata": {},
   "outputs": [],
   "source": [
    "X_train = []\n",
    "y_train = []\n",
    "\n",
    "for i in range(len(data_train_gen)):\n",
    "    step = next(data_train_gen)\n",
    "    X_train.append(step['data'])\n",
    "    y_train.append(step['label'])\n",
    "\n",
    "X_test = []\n",
    "y_test = []\n",
    "\n",
    "for i in range(len(data_test_gen)):\n",
    "    step = next(data_test_gen)\n",
    "    X_test.append(step['data'])\n",
    "    y_test.append(step['label'])"
   ]
  },
  {
   "cell_type": "markdown",
   "metadata": {},
   "source": [
    "# MODEL"
   ]
  },
  {
   "cell_type": "markdown",
   "metadata": {},
   "source": [
    "## Instantiating"
   ]
  },
  {
   "cell_type": "code",
   "execution_count": 4,
   "metadata": {},
   "outputs": [],
   "source": [
    "model = Sequential([\n",
    "        InputLayer(input_shape=(256,256,3)),\n",
    "        Conv2D(2, (16, 16), activation='relu'),\n",
    "        Flatten(),\n",
    "        Dense(16, activation='relu'),\n",
    "        Dense(1, activation='sigmoid')\n",
    "    ])\n",
    "\n",
    "model.compile()"
   ]
  },
  {
   "cell_type": "markdown",
   "metadata": {},
   "source": [
    "## Training"
   ]
  },
  {
   "cell_type": "code",
   "execution_count": 5,
   "metadata": {},
   "outputs": [],
   "source": [
    "model.fit(X_train, y_train, 20, 10, 0.2)"
   ]
  },
  {
   "cell_type": "markdown",
   "metadata": {},
   "source": [
    "## Testing"
   ]
  },
  {
   "cell_type": "code",
   "execution_count": 10,
   "metadata": {},
   "outputs": [],
   "source": [
    "# TEST\n",
    "y_pred = model.predict(X_test)"
   ]
  },
  {
   "cell_type": "code",
   "execution_count": 9,
   "metadata": {},
   "outputs": [
    {
     "name": "stdout",
     "output_type": "stream",
     "text": [
      "[15.42494847 15.42494847 -0.         15.42494847 15.42494847 -0.\n",
      " 15.42494847 15.42494847 15.42494847 -0.         15.42494847 -0.\n",
      " 15.42494847 15.42494847 -0.         -0.         -0.         15.42494847\n",
      " 15.42494847 -0.         15.42494847 -0.         -0.         15.42494847\n",
      " 15.42494847 15.42494847 -0.         -0.         15.42494847 -0.\n",
      " 15.42494847 15.42494847 -0.         15.42494847 -0.         -0.\n",
      " -0.         -0.         -0.         -0.        ]\n"
     ]
    }
   ],
   "source": [
    "loss = BinaryCrossEntropy.BinaryCrossEntropy(y_test, y_pred)\n",
    "print(loss)"
   ]
  }
 ],
 "metadata": {
  "kernelspec": {
   "display_name": "Python 3 (ipykernel)",
   "language": "python",
   "name": "python3"
  },
  "language_info": {
   "codemirror_mode": {
    "name": "ipython",
    "version": 3
   },
   "file_extension": ".py",
   "mimetype": "text/x-python",
   "name": "python",
   "nbconvert_exporter": "python",
   "pygments_lexer": "ipython3",
   "version": "3.10.7"
  },
  "vscode": {
   "interpreter": {
    "hash": "181c9cc779eabb5679403462788feb2b291f3329287e5c484a59db5b02166bec"
   }
  }
 },
 "nbformat": 4,
 "nbformat_minor": 4
}

{
 "cells": [
  {
   "cell_type": "markdown",
   "metadata": {},
   "source": [
    "# IMPORTS"
   ]
  },
  {
   "cell_type": "code",
   "execution_count": 1,
   "metadata": {},
   "outputs": [],
   "source": [
    "import os\n",
    "from classes.layers.Conv2D import Conv2D\n",
    "from classes.layers.Dense import Dense\n",
    "from classes.layers.Flatten import Flatten\n",
    "from classes.layers.Input import InputLayer\n",
    "from classes.models.Sequential import Sequential\n",
    "from classes.utils.ImageConvert import ImageConvert"
   ]
  },
  {
   "cell_type": "markdown",
   "metadata": {},
   "source": [
    "# DATA PREPROCESSING"
   ]
  },
  {
   "cell_type": "code",
   "execution_count": 2,
   "metadata": {},
   "outputs": [],
   "source": [
    "ic_train = ImageConvert(\n",
    "        rotate=30.,\n",
    "        rescale=1./255.)\n",
    "data_train_gen = ic_train.from_directory(os.path.join('.','data','train'), (256,256), mode='binary', color_mode='rgb')\n",
    "\n",
    "ic_test = ImageConvert(\n",
    "        rotate=30.,\n",
    "        rescale=1./255.)\n",
    "data_test_gen = ic_test.from_directory(os.path.join('.','data','test'), (256,256), mode='binary', color_mode='rgb')"
   ]
  },
  {
   "cell_type": "code",
   "execution_count": 3,
   "metadata": {},
   "outputs": [],
   "source": [
    "X_train = []\n",
    "y_train = []\n",
    "\n",
    "for i in range(len(data_train_gen)):\n",
    "    step = next(data_train_gen)\n",
    "    X_train.append(step['data'])\n",
    "    y_train.append(step['label'])\n",
    "\n",
    "X_test = []\n",
    "y_test = []\n",
    "\n",
    "for i in range(len(data_test_gen)):\n",
    "    step = next(data_test_gen)\n",
    "    X_test.append(step['data'])\n",
    "    y_test.append(step['label'])"
   ]
  },
  {
   "cell_type": "markdown",
   "metadata": {},
   "source": [
    "# MODEL"
   ]
  },
  {
   "cell_type": "markdown",
   "metadata": {},
   "source": [
    "## Instantiating"
   ]
  },
  {
   "cell_type": "code",
   "execution_count": 5,
   "metadata": {},
   "outputs": [],
   "source": [
    "model = Sequential([\n",
    "        InputLayer(input_shape=(256,256,3)),\n",
    "        Conv2D(2, (16, 16), activation='relu'),\n",
    "        Flatten(),\n",
    "        Dense(16, activation='relu'),\n",
    "        Dense(1, activation='sigmoid')\n",
    "    ])\n",
    "\n",
    "model.compile()"
   ]
  },
  {
   "cell_type": "markdown",
   "metadata": {},
   "source": [
    "## Training"
   ]
  },
  {
   "cell_type": "code",
   "execution_count": 6,
   "metadata": {},
   "outputs": [
    {
     "ename": "TypeError",
     "evalue": "'NoneType' object is not subscriptable",
     "output_type": "error",
     "traceback": [
      "\u001b[1;31m---------------------------------------------------------------------------\u001b[0m",
      "\u001b[1;31mTypeError\u001b[0m                                 Traceback (most recent call last)",
      "Cell \u001b[1;32mIn [6], line 1\u001b[0m\n\u001b[1;32m----> 1\u001b[0m model\u001b[38;5;241m.\u001b[39mfit(X_train, y_train, \u001b[38;5;241m20\u001b[39m, \u001b[38;5;241m10\u001b[39m, \u001b[38;5;241m0.2\u001b[39m, verbose\u001b[38;5;241m=\u001b[39m\u001b[38;5;28;01mTrue\u001b[39;00m)\n",
      "File \u001b[1;32md:\\ITB\\AML\\ConvolutionalNeuralNetwork\\classes\\models\\Sequential.py:83\u001b[0m, in \u001b[0;36mSequential.fit\u001b[1;34m(self, data, label, batch_size, epochs, learning_rate, verbose)\u001b[0m\n\u001b[0;32m     80\u001b[0m \u001b[39mfor\u001b[39;00m k \u001b[39min\u001b[39;00m \u001b[39mrange\u001b[39m(\u001b[39mlen\u001b[39m(\u001b[39mself\u001b[39m\u001b[39m.\u001b[39mlayers)\u001b[39m-\u001b[39m\u001b[39m1\u001b[39m, \u001b[39m-\u001b[39m\u001b[39m1\u001b[39m, \u001b[39m-\u001b[39m\u001b[39m1\u001b[39m):\n\u001b[0;32m     81\u001b[0m     \u001b[39mif\u001b[39;00m (k \u001b[39m<\u001b[39m \u001b[39mlen\u001b[39m(\u001b[39mself\u001b[39m\u001b[39m.\u001b[39mlayers) \u001b[39m-\u001b[39m \u001b[39m1\u001b[39m):\n\u001b[0;32m     82\u001b[0m         \u001b[39m# Hidden layer\u001b[39;00m\n\u001b[1;32m---> 83\u001b[0m         \u001b[39mself\u001b[39;49m\u001b[39m.\u001b[39;49mlayers[k]\u001b[39m.\u001b[39;49mbackward(\u001b[39mself\u001b[39;49m\u001b[39m.\u001b[39;49mlayers[i\u001b[39m+\u001b[39;49m\u001b[39m1\u001b[39;49m], \u001b[39mNone\u001b[39;49;00m)\n\u001b[0;32m     84\u001b[0m     \u001b[39melse\u001b[39;00m :\n\u001b[0;32m     85\u001b[0m         \u001b[39m# Output layer\u001b[39;00m\n\u001b[0;32m     86\u001b[0m         \u001b[39mself\u001b[39m\u001b[39m.\u001b[39mlayers[k]\u001b[39m.\u001b[39mbackward(\u001b[39mNone\u001b[39;00m, curr_label)\n",
      "File \u001b[1;32md:\\ITB\\AML\\ConvolutionalNeuralNetwork\\classes\\layers\\Dense.py:127\u001b[0m, in \u001b[0;36mDense.backward\u001b[1;34m(self, next_layer, target)\u001b[0m\n\u001b[0;32m    124\u001b[0m \u001b[39m# Update deltas\u001b[39;00m\n\u001b[0;32m    125\u001b[0m \u001b[39mif\u001b[39;00m (target \u001b[39m==\u001b[39m \u001b[39mNone\u001b[39;00m):\n\u001b[0;32m    126\u001b[0m     \u001b[39m# Hidden layer\u001b[39;00m\n\u001b[1;32m--> 127\u001b[0m     next_delta \u001b[39m=\u001b[39m np\u001b[39m.\u001b[39mdot(next_layer\u001b[39m.\u001b[39mdeltas, next_layer\u001b[39m.\u001b[39;49mweights[\u001b[39m1\u001b[39;49m:]\u001b[39m.\u001b[39mT)\n\u001b[0;32m    128\u001b[0m     \u001b[39mself\u001b[39m\u001b[39m.\u001b[39mdeltas \u001b[39m=\u001b[39m \u001b[39mself\u001b[39m\u001b[39m.\u001b[39moutput_deriv \u001b[39m*\u001b[39m next_delta\n\u001b[0;32m    129\u001b[0m     \u001b[39mpass\u001b[39;00m\n",
      "\u001b[1;31mTypeError\u001b[0m: 'NoneType' object is not subscriptable"
     ]
    }
   ],
   "source": [
    "model.fit(X_train, y_train, 20, 10, 0.2, verbose=True)"
   ]
  },
  {
   "cell_type": "markdown",
   "metadata": {},
   "source": [
    "## Testing"
   ]
  },
  {
   "cell_type": "code",
   "execution_count": 7,
   "metadata": {},
   "outputs": [
    {
     "data": {
      "text/plain": [
       "[array([1.]),\n",
       " array([1.]),\n",
       " array([1.]),\n",
       " array([1.]),\n",
       " array([1.]),\n",
       " array([1.]),\n",
       " array([1.]),\n",
       " array([1.]),\n",
       " array([1.]),\n",
       " array([1.]),\n",
       " array([1.]),\n",
       " array([1.]),\n",
       " array([1.]),\n",
       " array([1.]),\n",
       " array([1.]),\n",
       " array([1.]),\n",
       " array([1.]),\n",
       " array([1.]),\n",
       " array([1.]),\n",
       " array([1.]),\n",
       " array([1.]),\n",
       " array([1.]),\n",
       " array([1.]),\n",
       " array([1.]),\n",
       " array([1.]),\n",
       " array([1.]),\n",
       " array([1.]),\n",
       " array([1.]),\n",
       " array([1.]),\n",
       " array([1.]),\n",
       " array([1.]),\n",
       " array([1.]),\n",
       " array([1.]),\n",
       " array([1.]),\n",
       " array([1.]),\n",
       " array([1.]),\n",
       " array([1.]),\n",
       " array([1.]),\n",
       " array([1.]),\n",
       " array([1.])]"
      ]
     },
     "execution_count": 7,
     "metadata": {},
     "output_type": "execute_result"
    }
   ],
   "source": [
    "# TEST\n",
    "model.predict(X_test)"
   ]
  },
  {
   "cell_type": "code",
   "execution_count": null,
   "metadata": {},
   "outputs": [],
   "source": []
  }
 ],
 "metadata": {
  "kernelspec": {
   "display_name": "Python 3.10.7 64-bit",
   "language": "python",
   "name": "python3"
  },
  "language_info": {
   "codemirror_mode": {
    "name": "ipython",
    "version": 3
   },
   "file_extension": ".py",
   "mimetype": "text/x-python",
   "name": "python",
   "nbconvert_exporter": "python",
   "pygments_lexer": "ipython3",
   "version": "3.10.7"
  },
  "vscode": {
   "interpreter": {
    "hash": "181c9cc779eabb5679403462788feb2b291f3329287e5c484a59db5b02166bec"
   }
  }
 },
 "nbformat": 4,
 "nbformat_minor": 4
}

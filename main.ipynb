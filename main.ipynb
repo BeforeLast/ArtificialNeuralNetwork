{
 "cells": [
  {
   "cell_type": "code",
   "execution_count": 1,
   "metadata": {
    "colab": {
     "base_uri": "https://localhost:8080/"
    },
    "executionInfo": {
     "elapsed": 3744,
     "status": "ok",
     "timestamp": 1667564622433,
     "user": {
      "displayName": "Billy Julius",
      "userId": "17316143814733369767"
     },
     "user_tz": -420
    },
    "id": "HGa3E22Ix3lF",
    "outputId": "c276909d-3cfc-4fdd-e112-154f5cd97544"
   },
   "outputs": [
    {
     "name": "stdout",
     "output_type": "stream",
     "text": [
      "Drive already mounted at /content/gdrive; to attempt to forcibly remount, call drive.mount(\"/content/gdrive\", force_remount=True).\n"
     ]
    }
   ],
   "source": [
    "from google.colab import drive\n",
    "drive.mount('/content/gdrive')\n",
    "import sys\n",
    "sys.path.append('/content/gdrive/Shareddrives/IF4074_Tubes 2_13519074')"
   ]
  },
  {
   "cell_type": "markdown",
   "metadata": {
    "id": "7EdpSNBx3mAn"
   },
   "source": [
    "# CNN"
   ]
  },
  {
   "cell_type": "markdown",
   "metadata": {
    "id": "Q9-sM7O9xyta"
   },
   "source": [
    "## Imports"
   ]
  },
  {
   "cell_type": "code",
   "execution_count": 2,
   "metadata": {
    "executionInfo": {
     "elapsed": 4,
     "status": "ok",
     "timestamp": 1667564622433,
     "user": {
      "displayName": "Billy Julius",
      "userId": "17316143814733369767"
     },
     "user_tz": -420
    },
    "id": "RU34-BU-xytf"
   },
   "outputs": [],
   "source": [
    "import os\n",
    "from classes.layers.Conv2D import Conv2D\n",
    "from classes.layers.Dense import Dense\n",
    "from classes.layers.Flatten import Flatten\n",
    "from classes.layers.Input import InputLayer\n",
    "from classes.models.Sequential import Sequential\n",
    "from classes.utils.ImageConvert import ImageConvert\n",
    "from classes.losses.BinaryCrossentropy import BinaryCrossentropy\n",
    "\n",
    "import numpy as np"
   ]
  },
  {
   "cell_type": "markdown",
   "metadata": {
    "id": "o7IBI4Eyxyth"
   },
   "source": [
    "## Data Preprocessing"
   ]
  },
  {
   "cell_type": "code",
   "execution_count": 26,
   "metadata": {
    "executionInfo": {
     "elapsed": 3837,
     "status": "ok",
     "timestamp": 1667567918390,
     "user": {
      "displayName": "Billy Julius",
      "userId": "17316143814733369767"
     },
     "user_tz": -420
    },
    "id": "sN_Z8RFqxyti"
   },
   "outputs": [],
   "source": [
    "ic_train = ImageConvert(\n",
    "        rotate=30.,\n",
    "        rescale=1./255.)\n",
    "data_train_gen = ic_train.from_directory(os.path.join('/content/gdrive/Shareddrives/IF4074_Tubes 2_13519074/data','Cat-Dog','train'), (256,256), mode='binary', color_mode='rgb')\n",
    "\n",
    "ic_test = ImageConvert(\n",
    "        rotate=30.,\n",
    "        rescale=1./255.)\n",
    "data_test_gen = ic_test.from_directory(os.path.join('/content/gdrive/Shareddrives/IF4074_Tubes 2_13519074/data','Cat-Dog','test'), (256,256), mode='binary', color_mode='rgb')"
   ]
  },
  {
   "cell_type": "code",
   "execution_count": 4,
   "metadata": {
    "executionInfo": {
     "elapsed": 30361,
     "status": "ok",
     "timestamp": 1667564653493,
     "user": {
      "displayName": "Billy Julius",
      "userId": "17316143814733369767"
     },
     "user_tz": -420
    },
    "id": "ioUI1z4Uxyti"
   },
   "outputs": [],
   "source": [
    "X_train = []\n",
    "y_train = []\n",
    "\n",
    "for i in range(len(data_train_gen)):\n",
    "    step = next(data_train_gen)\n",
    "    X_train.append(step['data'])\n",
    "    y_train.append(step['label'])"
   ]
  },
  {
   "cell_type": "code",
   "execution_count": 14,
   "metadata": {
    "executionInfo": {
     "elapsed": 740,
     "status": "ok",
     "timestamp": 1667566522367,
     "user": {
      "displayName": "Billy Julius",
      "userId": "17316143814733369767"
     },
     "user_tz": -420
    },
    "id": "7fUKn81GtY_j"
   },
   "outputs": [],
   "source": [
    "X_test = []\n",
    "y_test = []\n",
    "\n",
    "for i in range(len(data_test_gen)):\n",
    "    step = next(data_test_gen)\n",
    "    X_test.append(step['data'])\n",
    "    y_test.append(step['label'])"
   ]
  },
  {
   "cell_type": "markdown",
   "metadata": {
    "id": "txHoxcb9xytj"
   },
   "source": [
    "## MODEL"
   ]
  },
  {
   "cell_type": "markdown",
   "metadata": {
    "id": "MIAuHDrNxytj"
   },
   "source": [
    "### Instantiating"
   ]
  },
  {
   "cell_type": "code",
   "execution_count": 5,
   "metadata": {
    "executionInfo": {
     "elapsed": 20,
     "status": "ok",
     "timestamp": 1667564653495,
     "user": {
      "displayName": "Billy Julius",
      "userId": "17316143814733369767"
     },
     "user_tz": -420
    },
    "id": "aZHZ2Slbxytk"
   },
   "outputs": [],
   "source": [
    "def generate_n_model(n):\n",
    "    models = []\n",
    "    for _ in range(n):\n",
    "        model = Sequential([\n",
    "                InputLayer(input_shape=(256,256,3)),\n",
    "                Conv2D(2, (16, 16), activation='relu'),\n",
    "                Flatten(),\n",
    "                Dense(16, activation='relu'),\n",
    "                Dense(1, activation='sigmoid')\n",
    "            ],  name=f'Model_{_}')\n",
    "\n",
    "        model.compile(loss=BinaryCrossentropy())\n",
    "        models.append(model)\n",
    "    return models"
   ]
  },
  {
   "cell_type": "code",
   "execution_count": 6,
   "metadata": {
    "executionInfo": {
     "elapsed": 12,
     "status": "ok",
     "timestamp": 1667564653498,
     "user": {
      "displayName": "Billy Julius",
      "userId": "17316143814733369767"
     },
     "user_tz": -420
    },
    "id": "js4CAobqxytk"
   },
   "outputs": [],
   "source": [
    "models = generate_n_model(10)"
   ]
  },
  {
   "cell_type": "code",
   "execution_count": 25,
   "metadata": {
    "colab": {
     "base_uri": "https://localhost:8080/"
    },
    "executionInfo": {
     "elapsed": 379,
     "status": "ok",
     "timestamp": 1667567134975,
     "user": {
      "displayName": "Billy Julius",
      "userId": "17316143814733369767"
     },
     "user_tz": -420
    },
    "id": "Z8Bu3qzivwFN",
    "outputId": "67062ac8-3148-4671-f526-903ff14b7cb0"
   },
   "outputs": [
    {
     "name": "stdout",
     "output_type": "stream",
     "text": [
      "Name          Type        Output Shape           Num of Params\n",
      "------------  ----------  -------------------  ---------------\n",
      "InputLayer    InputLayer  (None, 256, 256, 3)                0\n",
      "Conv2D        Conv2D      (None, 242, 242, 2)             1538\n",
      "FlattenLayer  Flatten     (None, 117128)                     0\n",
      "Dense         Dense       (None, 16)                   1874064\n",
      "Dense         Dense       (None, 1)                         17\n",
      "Total params:  1875619\n",
      "Trainable params:  1875619\n",
      "Non-trainable params:  0\n"
     ]
    }
   ],
   "source": [
    "models[0].summary()"
   ]
  },
  {
   "cell_type": "markdown",
   "metadata": {
    "id": "7evpph2kxytl"
   },
   "source": [
    "### Training"
   ]
  },
  {
   "cell_type": "code",
   "execution_count": 7,
   "metadata": {
    "executionInfo": {
     "elapsed": 559,
     "status": "ok",
     "timestamp": 1667564654046,
     "user": {
      "displayName": "Billy Julius",
      "userId": "17316143814733369767"
     },
     "user_tz": -420
    },
    "id": "MMG64UpAxytl"
   },
   "outputs": [],
   "source": [
    "def cross_validation_split(data, label, n):\n",
    "    data_split = [list(_) for _ in np.array_split(data, n)]\n",
    "    label_split = [list(_) for _ in np.array_split(label, n)]\n",
    "    \n",
    "    train_split = []\n",
    "    valid_split = []\n",
    "    label_train_split = []\n",
    "    label_valid_split = []\n",
    "\n",
    "    for i in range(len(data_split)):\n",
    "        # Separate validation k fold split\n",
    "        for data in data_split[i]:\n",
    "            valid_split.append(data)\n",
    "        for label in label_split[i]:\n",
    "            label_valid_split.append(label)\n",
    "        # Union train k fold split\n",
    "        temp_train_data = []\n",
    "        for data in data_split[:i]:\n",
    "            # for data in set:\n",
    "            temp_train_data += list(data)\n",
    "        for data in data_split[i+1:]:\n",
    "            # for data in set:\n",
    "            temp_train_data += list(data)\n",
    "        train_split.append(temp_train_data)\n",
    "        \n",
    "        temp_train_label = []\n",
    "        for set in label_split[:i]:\n",
    "            for label in set:\n",
    "                temp_train_label.append(label)\n",
    "        for set in label_split[i+1:]:\n",
    "            for label in set:\n",
    "                temp_train_label.append(label)\n",
    "        label_train_split.append(temp_train_label)\n",
    "    \n",
    "    return train_split, valid_split, label_train_split, label_valid_split\n",
    "\n",
    "train_split, valid_split,\\\n",
    "    label_train_split, label_valid_split = cross_validation_split(X_train, y_train, 10)"
   ]
  },
  {
   "cell_type": "code",
   "execution_count": 8,
   "metadata": {
    "colab": {
     "base_uri": "https://localhost:8080/"
    },
    "executionInfo": {
     "elapsed": 1107443,
     "status": "ok",
     "timestamp": 1667565761479,
     "user": {
      "displayName": "Billy Julius",
      "userId": "17316143814733369767"
     },
     "user_tz": -420
    },
    "id": "W4_wCo05xytm",
    "outputId": "508e1514-3a9c-43af-85f9-e8b30f24b3dd"
   },
   "outputs": [
    {
     "name": "stdout",
     "output_type": "stream",
     "text": [
      "Model_0\n",
      "Epochs 1/1\n",
      "Step: 81/81\n",
      "\n",
      "\n",
      "Model_1\n",
      "Epochs 1/1\n",
      "Step: 81/81\n",
      "Step: 82/81\n",
      "\n",
      "\n",
      "Model_2\n",
      "Epochs 1/1\n",
      "Step: 81/81\n",
      "Step: 82/81\n",
      "\n",
      "\n",
      "Model_3\n",
      "Epochs 1/1\n",
      "Step: 81/81\n",
      "Step: 82/81\n",
      "\n",
      "\n",
      "Model_4\n",
      "Epochs 1/1\n",
      "Step: 81/81\n",
      "Step: 82/81\n",
      "\n",
      "\n",
      "Model_5\n",
      "Epochs 1/1\n",
      "Step: 81/81\n",
      "Step: 82/81\n",
      "\n",
      "\n",
      "Model_6\n",
      "Epochs 1/1\n",
      "Step: 81/81\n",
      "Step: 82/81\n",
      "\n",
      "\n",
      "Model_7\n",
      "Epochs 1/1\n",
      "Step: 81/81\n",
      "Step: 82/81\n",
      "\n",
      "\n",
      "Model_8\n",
      "Epochs 1/1\n",
      "Step: 81/81\n",
      "Step: 82/81\n",
      "\n",
      "\n",
      "Model_9\n",
      "Epochs 1/1\n",
      "Step: 81/81\n",
      "Step: 82/81\n",
      "\n",
      "\n"
     ]
    }
   ],
   "source": [
    "for i in range(len(models)):\n",
    "    print(models[i].name)\n",
    "    models[i].fit(train_split[i], label_train_split[i], 2, 1, 0.2)\n",
    "    print()\n",
    "    print()"
   ]
  },
  {
   "cell_type": "markdown",
   "metadata": {
    "id": "7MHHt5FIxytm"
   },
   "source": [
    "### Testing"
   ]
  },
  {
   "cell_type": "code",
   "execution_count": 9,
   "metadata": {
    "colab": {
     "base_uri": "https://localhost:8080/"
    },
    "executionInfo": {
     "elapsed": 282960,
     "status": "ok",
     "timestamp": 1667566044432,
     "user": {
      "displayName": "Billy Julius",
      "userId": "17316143814733369767"
     },
     "user_tz": -420
    },
    "id": "7pwbQylwxytn",
    "outputId": "7abccc24-4da7-4a2f-9995-19c88571675e",
    "tags": []
   },
   "outputs": [
    {
     "name": "stdout",
     "output_type": "stream",
     "text": [
      "Model_0\n",
      "Step: 40/40 | loss: -7.7124742353307765\n",
      "Model_1\n",
      "Step: 40/40 | loss: -7.7124742353307765\n",
      "Model_2\n",
      "Step: 40/40 | loss: -7.7124742353307765\n",
      "Model_3\n",
      "Step: 40/40 | loss: -7.7124742353307765\n",
      "Model_4\n",
      "Step: 40/40 | loss: -7.7124742353307765\n",
      "Model_5\n",
      "Step: 40/40 | loss: -7.7124742353307765\n",
      "Model_6\n",
      "Step: 40/40 | loss: -7.7124742353307765\n",
      "Model_7\n",
      "Step: 40/40 | loss: -7.7124742353307765\n",
      "Model_8\n",
      "Step: 40/40 | loss: -7.7124742353307765\n",
      "Model_9\n",
      "Step: 40/40 | loss: -7.7124742353307765\n"
     ]
    }
   ],
   "source": [
    "# TEST\n",
    "for model in models:\n",
    "    print(model.name)\n",
    "    model.predict(data_test_gen)"
   ]
  },
  {
   "cell_type": "markdown",
   "metadata": {
    "id": "6u5UWlCAxytn"
   },
   "source": [
    "### Pick Best Model"
   ]
  },
  {
   "cell_type": "code",
   "execution_count": 10,
   "metadata": {
    "executionInfo": {
     "elapsed": 14,
     "status": "ok",
     "timestamp": 1667566044433,
     "user": {
      "displayName": "Billy Julius",
      "userId": "17316143814733369767"
     },
     "user_tz": -420
    },
    "id": "ka0DVbeSxytn"
   },
   "outputs": [],
   "source": [
    "model = models[2]"
   ]
  },
  {
   "cell_type": "markdown",
   "metadata": {
    "id": "46JopntCxyto"
   },
   "source": [
    "## SAVE & LOAD"
   ]
  },
  {
   "cell_type": "code",
   "execution_count": 11,
   "metadata": {
    "executionInfo": {
     "elapsed": 4398,
     "status": "ok",
     "timestamp": 1667566048827,
     "user": {
      "displayName": "Billy Julius",
      "userId": "17316143814733369767"
     },
     "user_tz": -420
    },
    "id": "Nhg5Cv-vxyto"
   },
   "outputs": [],
   "source": [
    "model.save(\"cnn_model\")"
   ]
  },
  {
   "cell_type": "code",
   "execution_count": 12,
   "metadata": {
    "executionInfo": {
     "elapsed": 1486,
     "status": "ok",
     "timestamp": 1667566050306,
     "user": {
      "displayName": "Billy Julius",
      "userId": "17316143814733369767"
     },
     "user_tz": -420
    },
    "id": "1B_oIFq4xyto"
   },
   "outputs": [],
   "source": [
    "model.load(\"cnn_model.json\")"
   ]
  },
  {
   "cell_type": "code",
   "execution_count": 15,
   "metadata": {
    "colab": {
     "base_uri": "https://localhost:8080/"
    },
    "executionInfo": {
     "elapsed": 26848,
     "status": "ok",
     "timestamp": 1667566553453,
     "user": {
      "displayName": "Billy Julius",
      "userId": "17316143814733369767"
     },
     "user_tz": -420
    },
    "id": "0SaUl_9Sxyto",
    "outputId": "9a211df6-967b-491c-b913-ef5e8f5ac5cf"
   },
   "outputs": [
    {
     "data": {
      "text/plain": [
       "[array([1.]),\n",
       " array([1.]),\n",
       " array([1.]),\n",
       " array([1.]),\n",
       " array([1.]),\n",
       " array([1.]),\n",
       " array([1.]),\n",
       " array([1.]),\n",
       " array([1.]),\n",
       " array([1.]),\n",
       " array([1.]),\n",
       " array([1.]),\n",
       " array([1.]),\n",
       " array([1.]),\n",
       " array([1.]),\n",
       " array([1.]),\n",
       " array([1.]),\n",
       " array([1.]),\n",
       " array([1.]),\n",
       " array([1.]),\n",
       " array([1.]),\n",
       " array([1.]),\n",
       " array([1.]),\n",
       " array([1.]),\n",
       " array([1.]),\n",
       " array([1.]),\n",
       " array([1.]),\n",
       " array([1.]),\n",
       " array([1.]),\n",
       " array([1.]),\n",
       " array([1.]),\n",
       " array([1.]),\n",
       " array([1.]),\n",
       " array([1.]),\n",
       " array([1.]),\n",
       " array([1.]),\n",
       " array([1.]),\n",
       " array([1.]),\n",
       " array([1.]),\n",
       " array([1.])]"
      ]
     },
     "execution_count": 15,
     "metadata": {},
     "output_type": "execute_result"
    }
   ],
   "source": [
    "model.predict(X_test)"
   ]
  },
  {
   "cell_type": "markdown",
   "metadata": {
    "id": "oQpt8PCXxkeU"
   },
   "source": [
    "# RNN"
   ]
  },
  {
   "cell_type": "markdown",
   "metadata": {
    "id": "lI6x3vi5uJS7"
   },
   "source": [
    "## Imports"
   ]
  },
  {
   "cell_type": "code",
   "execution_count": 18,
   "metadata": {
    "executionInfo": {
     "elapsed": 724,
     "status": "ok",
     "timestamp": 1667566712597,
     "user": {
      "displayName": "Billy Julius",
      "userId": "17316143814733369767"
     },
     "user_tz": -420
    },
    "id": "UehuJ7SduKvc"
   },
   "outputs": [],
   "source": [
    "import pandas as pd\n",
    "from classes.layers.LSTM import LSTM"
   ]
  },
  {
   "cell_type": "markdown",
   "metadata": {
    "id": "xyEhZyHzjwDH"
   },
   "source": [
    "## Data and Preprocessing"
   ]
  },
  {
   "cell_type": "code",
   "execution_count": 20,
   "metadata": {
    "colab": {
     "base_uri": "https://localhost:8080/",
     "height": 1000
    },
    "executionInfo": {
     "elapsed": 728,
     "status": "ok",
     "timestamp": 1667566751474,
     "user": {
      "displayName": "Billy Julius",
      "userId": "17316143814733369767"
     },
     "user_tz": -420
    },
    "id": "XrNZoX86jwDJ",
    "outputId": "766ba4a0-26c0-44b0-86e2-66e490beda74"
   },
   "outputs": [
    {
     "data": {
      "text/html": [
       "\n",
       "  <div id=\"df-990a32af-a194-4bef-97f0-a1e561bc52eb\">\n",
       "    <div class=\"colab-df-container\">\n",
       "      <div>\n",
       "<style scoped>\n",
       "    .dataframe tbody tr th:only-of-type {\n",
       "        vertical-align: middle;\n",
       "    }\n",
       "\n",
       "    .dataframe tbody tr th {\n",
       "        vertical-align: top;\n",
       "    }\n",
       "\n",
       "    .dataframe thead th {\n",
       "        text-align: right;\n",
       "    }\n",
       "</style>\n",
       "<table border=\"1\" class=\"dataframe\">\n",
       "  <thead>\n",
       "    <tr style=\"text-align: right;\">\n",
       "      <th></th>\n",
       "      <th>Open</th>\n",
       "      <th>High</th>\n",
       "      <th>Low</th>\n",
       "      <th>Close</th>\n",
       "      <th>Volume</th>\n",
       "    </tr>\n",
       "  </thead>\n",
       "  <tbody>\n",
       "    <tr>\n",
       "      <th>19</th>\n",
       "      <td>1713.962524</td>\n",
       "      <td>1745.779053</td>\n",
       "      <td>1564.031860</td>\n",
       "      <td>1580.787964</td>\n",
       "      <td>23066821734</td>\n",
       "    </tr>\n",
       "    <tr>\n",
       "      <th>20</th>\n",
       "      <td>1574.858154</td>\n",
       "      <td>1642.157227</td>\n",
       "      <td>1564.031860</td>\n",
       "      <td>1634.755005</td>\n",
       "      <td>17897150206</td>\n",
       "    </tr>\n",
       "    <tr>\n",
       "      <th>21</th>\n",
       "      <td>1635.083008</td>\n",
       "      <td>1648.945679</td>\n",
       "      <td>1466.139404</td>\n",
       "      <td>1471.693481</td>\n",
       "      <td>26946275878</td>\n",
       "    </tr>\n",
       "    <tr>\n",
       "      <th>22</th>\n",
       "      <td>1471.928345</td>\n",
       "      <td>1480.564209</td>\n",
       "      <td>1415.581299</td>\n",
       "      <td>1432.447754</td>\n",
       "      <td>16764804299</td>\n",
       "    </tr>\n",
       "    <tr>\n",
       "      <th>23</th>\n",
       "      <td>1432.876465</td>\n",
       "      <td>1473.060425</td>\n",
       "      <td>1415.042358</td>\n",
       "      <td>1469.741699</td>\n",
       "      <td>10798098671</td>\n",
       "    </tr>\n",
       "    <tr>\n",
       "      <th>24</th>\n",
       "      <td>1469.705444</td>\n",
       "      <td>1469.705444</td>\n",
       "      <td>1331.494751</td>\n",
       "      <td>1335.329102</td>\n",
       "      <td>15762284723</td>\n",
       "    </tr>\n",
       "    <tr>\n",
       "      <th>25</th>\n",
       "      <td>1335.270752</td>\n",
       "      <td>1388.272217</td>\n",
       "      <td>1287.420898</td>\n",
       "      <td>1377.541382</td>\n",
       "      <td>18712714223</td>\n",
       "    </tr>\n",
       "    <tr>\n",
       "      <th>26</th>\n",
       "      <td>1377.619019</td>\n",
       "      <td>1381.965698</td>\n",
       "      <td>1319.201416</td>\n",
       "      <td>1324.388184</td>\n",
       "      <td>14722317220</td>\n",
       "    </tr>\n",
       "    <tr>\n",
       "      <th>27</th>\n",
       "      <td>1324.215576</td>\n",
       "      <td>1384.476929</td>\n",
       "      <td>1229.426758</td>\n",
       "      <td>1252.607788</td>\n",
       "      <td>20643507800</td>\n",
       "    </tr>\n",
       "    <tr>\n",
       "      <th>28</th>\n",
       "      <td>1251.567383</td>\n",
       "      <td>1336.157837</td>\n",
       "      <td>1240.968262</td>\n",
       "      <td>1327.680176</td>\n",
       "      <td>18461527259</td>\n",
       "    </tr>\n",
       "    <tr>\n",
       "      <th>29</th>\n",
       "      <td>1327.481201</td>\n",
       "      <td>1353.288330</td>\n",
       "      <td>1270.198364</td>\n",
       "      <td>1328.259521</td>\n",
       "      <td>18771106339</td>\n",
       "    </tr>\n",
       "    <tr>\n",
       "      <th>30</th>\n",
       "      <td>1328.244629</td>\n",
       "      <td>1346.255249</td>\n",
       "      <td>1312.640259</td>\n",
       "      <td>1317.993286</td>\n",
       "      <td>12098209717</td>\n",
       "    </tr>\n",
       "    <tr>\n",
       "      <th>31</th>\n",
       "      <td>1317.938477</td>\n",
       "      <td>1333.371338</td>\n",
       "      <td>1275.627686</td>\n",
       "      <td>1294.216797</td>\n",
       "      <td>11802651633</td>\n",
       "    </tr>\n",
       "    <tr>\n",
       "      <th>32</th>\n",
       "      <td>1294.386108</td>\n",
       "      <td>1335.526367</td>\n",
       "      <td>1282.049316</td>\n",
       "      <td>1335.320190</td>\n",
       "      <td>16034549271</td>\n",
       "    </tr>\n",
       "    <tr>\n",
       "      <th>33</th>\n",
       "      <td>1335.337036</td>\n",
       "      <td>1396.891479</td>\n",
       "      <td>1308.991455</td>\n",
       "      <td>1330.127686</td>\n",
       "      <td>17870598937</td>\n",
       "    </tr>\n",
       "    <tr>\n",
       "      <th>34</th>\n",
       "      <td>1329.541382</td>\n",
       "      <td>1351.964478</td>\n",
       "      <td>1267.869263</td>\n",
       "      <td>1337.410889</td>\n",
       "      <td>18994979566</td>\n",
       "    </tr>\n",
       "    <tr>\n",
       "      <th>35</th>\n",
       "      <td>1337.554443</td>\n",
       "      <td>1348.107666</td>\n",
       "      <td>1293.193359</td>\n",
       "      <td>1335.652344</td>\n",
       "      <td>13796915736</td>\n",
       "    </tr>\n",
       "    <tr>\n",
       "      <th>36</th>\n",
       "      <td>1335.646484</td>\n",
       "      <td>1368.743408</td>\n",
       "      <td>1320.383179</td>\n",
       "      <td>1327.978638</td>\n",
       "      <td>14250100093</td>\n",
       "    </tr>\n",
       "    <tr>\n",
       "      <th>37</th>\n",
       "      <td>1328.193726</td>\n",
       "      <td>1332.516479</td>\n",
       "      <td>1306.102539</td>\n",
       "      <td>1311.644409</td>\n",
       "      <td>6227961237</td>\n",
       "    </tr>\n",
       "    <tr>\n",
       "      <th>38</th>\n",
       "      <td>1311.753418</td>\n",
       "      <td>1316.330078</td>\n",
       "      <td>1275.336060</td>\n",
       "      <td>1276.093506</td>\n",
       "      <td>7578351650</td>\n",
       "    </tr>\n",
       "    <tr>\n",
       "      <th>39</th>\n",
       "      <td>1276.163452</td>\n",
       "      <td>1326.554443</td>\n",
       "      <td>1271.150879</td>\n",
       "      <td>1323.439209</td>\n",
       "      <td>10153070907</td>\n",
       "    </tr>\n",
       "    <tr>\n",
       "      <th>40</th>\n",
       "      <td>1323.278320</td>\n",
       "      <td>1364.970947</td>\n",
       "      <td>1320.076660</td>\n",
       "      <td>1362.126587</td>\n",
       "      <td>10139774963</td>\n",
       "    </tr>\n",
       "    <tr>\n",
       "      <th>41</th>\n",
       "      <td>1361.972900</td>\n",
       "      <td>1362.451782</td>\n",
       "      <td>1320.855103</td>\n",
       "      <td>1352.837158</td>\n",
       "      <td>9774451820</td>\n",
       "    </tr>\n",
       "    <tr>\n",
       "      <th>42</th>\n",
       "      <td>1352.806641</td>\n",
       "      <td>1380.404907</td>\n",
       "      <td>1349.449951</td>\n",
       "      <td>1351.709473</td>\n",
       "      <td>12033514861</td>\n",
       "    </tr>\n",
       "    <tr>\n",
       "      <th>43</th>\n",
       "      <td>1351.836426</td>\n",
       "      <td>1359.328125</td>\n",
       "      <td>1321.746094</td>\n",
       "      <td>1332.516968</td>\n",
       "      <td>10061619355</td>\n",
       "    </tr>\n",
       "    <tr>\n",
       "      <th>44</th>\n",
       "      <td>1332.371338</td>\n",
       "      <td>1335.954834</td>\n",
       "      <td>1307.072998</td>\n",
       "      <td>1315.500488</td>\n",
       "      <td>5804676208</td>\n",
       "    </tr>\n",
       "    <tr>\n",
       "      <th>45</th>\n",
       "      <td>1315.460205</td>\n",
       "      <td>1327.668823</td>\n",
       "      <td>1309.344604</td>\n",
       "      <td>1322.604248</td>\n",
       "      <td>5486230123</td>\n",
       "    </tr>\n",
       "    <tr>\n",
       "      <th>46</th>\n",
       "      <td>1322.618652</td>\n",
       "      <td>1335.662720</td>\n",
       "      <td>1291.337646</td>\n",
       "      <td>1291.337646</td>\n",
       "      <td>8794491050</td>\n",
       "    </tr>\n",
       "    <tr>\n",
       "      <th>47</th>\n",
       "      <td>1291.109619</td>\n",
       "      <td>1296.273926</td>\n",
       "      <td>1272.737671</td>\n",
       "      <td>1279.575684</td>\n",
       "      <td>9274845260</td>\n",
       "    </tr>\n",
       "    <tr>\n",
       "      <th>48</th>\n",
       "      <td>1279.732300</td>\n",
       "      <td>1303.075195</td>\n",
       "      <td>1277.527466</td>\n",
       "      <td>1294.906372</td>\n",
       "      <td>8355638578</td>\n",
       "    </tr>\n",
       "    <tr>\n",
       "      <th>49</th>\n",
       "      <td>1294.917358</td>\n",
       "      <td>1297.564209</td>\n",
       "      <td>1209.278198</td>\n",
       "      <td>1288.123901</td>\n",
       "      <td>17499038202</td>\n",
       "    </tr>\n",
       "    <tr>\n",
       "      <th>50</th>\n",
       "      <td>1287.775757</td>\n",
       "      <td>1339.604614</td>\n",
       "      <td>1285.542725</td>\n",
       "      <td>1316.664062</td>\n",
       "      <td>15362046976</td>\n",
       "    </tr>\n",
       "  </tbody>\n",
       "</table>\n",
       "</div>\n",
       "      <button class=\"colab-df-convert\" onclick=\"convertToInteractive('df-990a32af-a194-4bef-97f0-a1e561bc52eb')\"\n",
       "              title=\"Convert this dataframe to an interactive table.\"\n",
       "              style=\"display:none;\">\n",
       "        \n",
       "  <svg xmlns=\"http://www.w3.org/2000/svg\" height=\"24px\"viewBox=\"0 0 24 24\"\n",
       "       width=\"24px\">\n",
       "    <path d=\"M0 0h24v24H0V0z\" fill=\"none\"/>\n",
       "    <path d=\"M18.56 5.44l.94 2.06.94-2.06 2.06-.94-2.06-.94-.94-2.06-.94 2.06-2.06.94zm-11 1L8.5 8.5l.94-2.06 2.06-.94-2.06-.94L8.5 2.5l-.94 2.06-2.06.94zm10 10l.94 2.06.94-2.06 2.06-.94-2.06-.94-.94-2.06-.94 2.06-2.06.94z\"/><path d=\"M17.41 7.96l-1.37-1.37c-.4-.4-.92-.59-1.43-.59-.52 0-1.04.2-1.43.59L10.3 9.45l-7.72 7.72c-.78.78-.78 2.05 0 2.83L4 21.41c.39.39.9.59 1.41.59.51 0 1.02-.2 1.41-.59l7.78-7.78 2.81-2.81c.8-.78.8-2.07 0-2.86zM5.41 20L4 18.59l7.72-7.72 1.47 1.35L5.41 20z\"/>\n",
       "  </svg>\n",
       "      </button>\n",
       "      \n",
       "  <style>\n",
       "    .colab-df-container {\n",
       "      display:flex;\n",
       "      flex-wrap:wrap;\n",
       "      gap: 12px;\n",
       "    }\n",
       "\n",
       "    .colab-df-convert {\n",
       "      background-color: #E8F0FE;\n",
       "      border: none;\n",
       "      border-radius: 50%;\n",
       "      cursor: pointer;\n",
       "      display: none;\n",
       "      fill: #1967D2;\n",
       "      height: 32px;\n",
       "      padding: 0 0 0 0;\n",
       "      width: 32px;\n",
       "    }\n",
       "\n",
       "    .colab-df-convert:hover {\n",
       "      background-color: #E2EBFA;\n",
       "      box-shadow: 0px 1px 2px rgba(60, 64, 67, 0.3), 0px 1px 3px 1px rgba(60, 64, 67, 0.15);\n",
       "      fill: #174EA6;\n",
       "    }\n",
       "\n",
       "    [theme=dark] .colab-df-convert {\n",
       "      background-color: #3B4455;\n",
       "      fill: #D2E3FC;\n",
       "    }\n",
       "\n",
       "    [theme=dark] .colab-df-convert:hover {\n",
       "      background-color: #434B5C;\n",
       "      box-shadow: 0px 1px 3px 1px rgba(0, 0, 0, 0.15);\n",
       "      filter: drop-shadow(0px 1px 2px rgba(0, 0, 0, 0.3));\n",
       "      fill: #FFFFFF;\n",
       "    }\n",
       "  </style>\n",
       "\n",
       "      <script>\n",
       "        const buttonEl =\n",
       "          document.querySelector('#df-990a32af-a194-4bef-97f0-a1e561bc52eb button.colab-df-convert');\n",
       "        buttonEl.style.display =\n",
       "          google.colab.kernel.accessAllowed ? 'block' : 'none';\n",
       "\n",
       "        async function convertToInteractive(key) {\n",
       "          const element = document.querySelector('#df-990a32af-a194-4bef-97f0-a1e561bc52eb');\n",
       "          const dataTable =\n",
       "            await google.colab.kernel.invokeFunction('convertToInteractive',\n",
       "                                                     [key], {});\n",
       "          if (!dataTable) return;\n",
       "\n",
       "          const docLinkHtml = 'Like what you see? Visit the ' +\n",
       "            '<a target=\"_blank\" href=https://colab.research.google.com/notebooks/data_table.ipynb>data table notebook</a>'\n",
       "            + ' to learn more about interactive tables.';\n",
       "          element.innerHTML = '';\n",
       "          dataTable['output_type'] = 'display_data';\n",
       "          await google.colab.output.renderOutput(dataTable, element);\n",
       "          const docLink = document.createElement('div');\n",
       "          docLink.innerHTML = docLinkHtml;\n",
       "          element.appendChild(docLink);\n",
       "        }\n",
       "      </script>\n",
       "    </div>\n",
       "  </div>\n",
       "  "
      ],
      "text/plain": [
       "           Open         High          Low        Close       Volume\n",
       "19  1713.962524  1745.779053  1564.031860  1580.787964  23066821734\n",
       "20  1574.858154  1642.157227  1564.031860  1634.755005  17897150206\n",
       "21  1635.083008  1648.945679  1466.139404  1471.693481  26946275878\n",
       "22  1471.928345  1480.564209  1415.581299  1432.447754  16764804299\n",
       "23  1432.876465  1473.060425  1415.042358  1469.741699  10798098671\n",
       "24  1469.705444  1469.705444  1331.494751  1335.329102  15762284723\n",
       "25  1335.270752  1388.272217  1287.420898  1377.541382  18712714223\n",
       "26  1377.619019  1381.965698  1319.201416  1324.388184  14722317220\n",
       "27  1324.215576  1384.476929  1229.426758  1252.607788  20643507800\n",
       "28  1251.567383  1336.157837  1240.968262  1327.680176  18461527259\n",
       "29  1327.481201  1353.288330  1270.198364  1328.259521  18771106339\n",
       "30  1328.244629  1346.255249  1312.640259  1317.993286  12098209717\n",
       "31  1317.938477  1333.371338  1275.627686  1294.216797  11802651633\n",
       "32  1294.386108  1335.526367  1282.049316  1335.320190  16034549271\n",
       "33  1335.337036  1396.891479  1308.991455  1330.127686  17870598937\n",
       "34  1329.541382  1351.964478  1267.869263  1337.410889  18994979566\n",
       "35  1337.554443  1348.107666  1293.193359  1335.652344  13796915736\n",
       "36  1335.646484  1368.743408  1320.383179  1327.978638  14250100093\n",
       "37  1328.193726  1332.516479  1306.102539  1311.644409   6227961237\n",
       "38  1311.753418  1316.330078  1275.336060  1276.093506   7578351650\n",
       "39  1276.163452  1326.554443  1271.150879  1323.439209  10153070907\n",
       "40  1323.278320  1364.970947  1320.076660  1362.126587  10139774963\n",
       "41  1361.972900  1362.451782  1320.855103  1352.837158   9774451820\n",
       "42  1352.806641  1380.404907  1349.449951  1351.709473  12033514861\n",
       "43  1351.836426  1359.328125  1321.746094  1332.516968  10061619355\n",
       "44  1332.371338  1335.954834  1307.072998  1315.500488   5804676208\n",
       "45  1315.460205  1327.668823  1309.344604  1322.604248   5486230123\n",
       "46  1322.618652  1335.662720  1291.337646  1291.337646   8794491050\n",
       "47  1291.109619  1296.273926  1272.737671  1279.575684   9274845260\n",
       "48  1279.732300  1303.075195  1277.527466  1294.906372   8355638578\n",
       "49  1294.917358  1297.564209  1209.278198  1288.123901  17499038202\n",
       "50  1287.775757  1339.604614  1285.542725  1316.664062  15362046976"
      ]
     },
     "execution_count": 20,
     "metadata": {},
     "output_type": "execute_result"
    }
   ],
   "source": [
    "df = pd.read_csv(\"/content/gdrive/Shareddrives/IF4074_Tubes 2_13519074/data/ETH-USD/ETH-USD-Test.csv\")\n",
    "\n",
    "# Drop Date Column \n",
    "df = df.drop(\"Date\", axis=1)\n",
    "\n",
    "# Take Last 32 data\n",
    "df = df.tail(32)\n",
    "\n",
    "df"
   ]
  },
  {
   "cell_type": "markdown",
   "metadata": {
    "id": "c-vw6RbgjwDK"
   },
   "source": [
    "### Data Shape"
   ]
  },
  {
   "cell_type": "code",
   "execution_count": 21,
   "metadata": {
    "colab": {
     "base_uri": "https://localhost:8080/"
    },
    "executionInfo": {
     "elapsed": 484,
     "status": "ok",
     "timestamp": 1667566754155,
     "user": {
      "displayName": "Billy Julius",
      "userId": "17316143814733369767"
     },
     "user_tz": -420
    },
    "id": "-2-Zd_mQjwDK",
    "outputId": "1319080c-371f-4cd8-a619-bf7af2e50faf"
   },
   "outputs": [
    {
     "data": {
      "text/plain": [
       "(32, 5)"
      ]
     },
     "execution_count": 21,
     "metadata": {},
     "output_type": "execute_result"
    }
   ],
   "source": [
    "data_shape = df.shape\n",
    "data_shape"
   ]
  },
  {
   "cell_type": "markdown",
   "metadata": {
    "id": "AewAPngYjwDL"
   },
   "source": [
    "## Model"
   ]
  },
  {
   "cell_type": "code",
   "execution_count": 22,
   "metadata": {
    "executionInfo": {
     "elapsed": 466,
     "status": "ok",
     "timestamp": 1667566755807,
     "user": {
      "displayName": "Billy Julius",
      "userId": "17316143814733369767"
     },
     "user_tz": -420
    },
    "id": "6eWj1pFDjwDL"
   },
   "outputs": [],
   "source": [
    "model = Sequential([\n",
    "  InputLayer(input_shape=data_shape),\n",
    "  LSTM(32),\n",
    "  Dense(5)\n",
    "])\n",
    "model.compile(data_shape)"
   ]
  },
  {
   "cell_type": "code",
   "execution_count": 23,
   "metadata": {
    "colab": {
     "base_uri": "https://localhost:8080/"
    },
    "executionInfo": {
     "elapsed": 3,
     "status": "ok",
     "timestamp": 1667566757148,
     "user": {
      "displayName": "Billy Julius",
      "userId": "17316143814733369767"
     },
     "user_tz": -420
    },
    "id": "3-KCkqh9jwDM",
    "outputId": "b65213f0-6ab5-44ec-fe75-61c889d99621"
   },
   "outputs": [
    {
     "name": "stdout",
     "output_type": "stream",
     "text": [
      "Name        Type        Output Shape      Num of Params\n",
      "----------  ----------  --------------  ---------------\n",
      "InputLayer  InputLayer  (None, 32, 5)                 0\n",
      "LSTM        LSTM        (None, 32)                 8320\n",
      "Dense       Dense       (None, 5)                   165\n",
      "Total params:  8485\n",
      "Trainable params:  8485\n",
      "Non-trainable params:  0\n"
     ]
    }
   ],
   "source": [
    "model.summary()"
   ]
  },
  {
   "cell_type": "code",
   "execution_count": 24,
   "metadata": {
    "colab": {
     "base_uri": "https://localhost:8080/"
    },
    "executionInfo": {
     "elapsed": 329,
     "status": "ok",
     "timestamp": 1667566759009,
     "user": {
      "displayName": "Billy Julius",
      "userId": "17316143814733369767"
     },
     "user_tz": -420
    },
    "id": "8CwqQqmtjwDN",
    "outputId": "7d7b8443-5e06-4584-93bd-860841ff9b01"
   },
   "outputs": [
    {
     "name": "stdout",
     "output_type": "stream",
     "text": [
      "[13.79026525 16.01430911 14.43523891 14.81894576 14.0761636 ]\n"
     ]
    }
   ],
   "source": [
    "output = model.predict(df.values)\n",
    "print(output)"
   ]
  },
  {
   "cell_type": "markdown",
   "metadata": {
    "id": "581BZrUhjwDO"
   },
   "source": [
    "## Output Analysis"
   ]
  },
  {
   "cell_type": "markdown",
   "metadata": {
    "id": "PITVR596jwDP"
   },
   "source": [
    "Dari output tersebut, dapat disimpulkan bahwa bahwa prediksi nilai selanjutnya dari kolom Open, High, Low, Close, dan Volume berturut-turut adalah 13.79026525, 16.01430911, 14.43523891, 14.81894576, dan 14.0761636. Tentunya hasil ini memiliki perbedaan yang signifikan dengan data-data sebelumnya. Hal ini dikarenakan model yang digunakan untuk memprediksi output belum di-train dan hanya menggunakan inisialisasi bobot secara acak. Kedepannya, apabila model ini dilakukan proses training, maka diharapkan output yang dihasilkan akan menjadi lebih baik dan relevan dengan data-data sebelumnya, sehingga dapat memberikan prediksi yang relatif lebih akurat."
   ]
  }
 ],
 "metadata": {
  "colab": {
   "provenance": []
  },
  "kernelspec": {
   "display_name": "Python 3 (ipykernel)",
   "language": "python",
   "name": "python3"
  },
  "language_info": {
   "codemirror_mode": {
    "name": "ipython",
    "version": 3
   },
   "file_extension": ".py",
   "mimetype": "text/x-python",
   "name": "python",
   "nbconvert_exporter": "python",
   "pygments_lexer": "ipython3",
   "version": "3.9.10"
  },
  "vscode": {
   "interpreter": {
    "hash": "c9863654f73317bec94cda1bdb7b80ecbb4fd3c0d86145d415009309a0233a2d"
   }
  }
 },
 "nbformat": 4,
 "nbformat_minor": 1
}

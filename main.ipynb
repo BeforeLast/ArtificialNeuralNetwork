{
 "cells": [
  {
   "cell_type": "markdown",
   "metadata": {},
   "source": [
    "# IMPORTS"
   ]
  },
  {
   "cell_type": "code",
   "execution_count": null,
   "metadata": {},
   "outputs": [],
   "source": [
    "import os\n",
    "from classes.layers.Conv2D import Conv2D\n",
    "from classes.layers.Dense import Dense\n",
    "from classes.layers.Flatten import Flatten\n",
    "from classes.layers.Input import InputLayer\n",
    "from classes.models.Sequential import Sequential\n",
    "from classes.utils.ImageConvert import ImageConvert\n",
    "from classes.losses.BinaryCrossentropy import BinaryCrossentropy\n",
    "\n",
    "import numpy as np"
   ]
  },
  {
   "cell_type": "markdown",
   "metadata": {},
   "source": [
    "# DATA PREPROCESSING"
   ]
  },
  {
   "cell_type": "code",
   "execution_count": null,
   "metadata": {},
   "outputs": [],
   "source": [
    "ic_train = ImageConvert(\n",
    "        rotate=30.,\n",
    "        rescale=1./255.)\n",
    "data_train_gen = ic_train.from_directory(os.path.join('.','data','train'), (256,256), mode='binary', color_mode='rgb')\n",
    "\n",
    "ic_test = ImageConvert(\n",
    "        rotate=30.,\n",
    "        rescale=1./255.)\n",
    "data_test_gen = ic_test.from_directory(os.path.join('.','data','test'), (256,256), mode='binary', color_mode='rgb')"
   ]
  },
  {
   "cell_type": "code",
   "execution_count": null,
   "metadata": {},
   "outputs": [],
   "source": [
    "X_train = []\n",
    "y_train = []\n",
    "\n",
    "for i in range(len(data_train_gen)):\n",
    "    step = next(data_train_gen)\n",
    "    X_train.append(step['data'])\n",
    "    y_train.append(step['label'])"
   ]
  },
  {
   "cell_type": "markdown",
   "metadata": {},
   "source": [
    "# MODEL"
   ]
  },
  {
   "cell_type": "markdown",
   "metadata": {},
   "source": [
    "## Instantiating"
   ]
  },
  {
   "cell_type": "code",
   "execution_count": null,
   "metadata": {},
   "outputs": [],
   "source": [
    "def generate_n_model(n):\n",
    "    models = []\n",
    "    for _ in range(n):\n",
    "        model = Sequential([\n",
    "                InputLayer(input_shape=(256,256,3)),\n",
    "                Conv2D(2, (16, 16), activation='relu'),\n",
    "                Flatten(),\n",
    "                Dense(16, activation='relu'),\n",
    "                Dense(1, activation='sigmoid')\n",
    "            ],  name=f'Model_{_}')\n",
    "\n",
    "        model.compile(loss=BinaryCrossentropy())\n",
    "        models.append(model)\n",
    "    return models"
   ]
  },
  {
   "cell_type": "code",
   "execution_count": null,
   "metadata": {},
   "outputs": [],
   "source": [
    "models = generate_n_model(10)"
   ]
  },
  {
   "cell_type": "markdown",
   "metadata": {},
   "source": [
    "## Training"
   ]
  },
  {
   "cell_type": "code",
   "execution_count": null,
   "metadata": {},
   "outputs": [],
   "source": [
    "def cross_validation_split(data, label, n):\n",
    "    data_split = [list(_) for _ in np.array_split(data, n)]\n",
    "    label_split = [list(_) for _ in np.array_split(label, n)]\n",
    "    \n",
    "    train_split = []\n",
    "    valid_split = []\n",
    "    label_train_split = []\n",
    "    label_valid_split = []\n",
    "\n",
    "    for i in range(len(data_split)):\n",
    "        # Separate validation k fold split\n",
    "        for data in data_split[i]:\n",
    "            valid_split.append(data)\n",
    "        for label in label_split[i]:\n",
    "            label_valid_split.append(label)\n",
    "        # Union train k fold split\n",
    "        temp_train_data = []\n",
    "        for data in data_split[:i]:\n",
    "            # for data in set:\n",
    "            temp_train_data += list(data)\n",
    "        for data in data_split[i+1:]:\n",
    "            # for data in set:\n",
    "            temp_train_data += list(data)\n",
    "        train_split.append(temp_train_data)\n",
    "        \n",
    "        temp_train_label = []\n",
    "        for set in label_split[:i]:\n",
    "            for label in set:\n",
    "                temp_train_label.append(label)\n",
    "        for set in label_split[i+1:]:\n",
    "            for label in set:\n",
    "                temp_train_label.append(label)\n",
    "        label_train_split.append(temp_train_label)\n",
    "    \n",
    "    return train_split, valid_split, label_train_split, label_valid_split\n",
    "\n",
    "train_split, valid_split,\\\n",
    "    label_train_split, label_valid_split = cross_validation_split(X_train, y_train, 10)"
   ]
  },
  {
   "cell_type": "code",
   "execution_count": null,
   "metadata": {},
   "outputs": [],
   "source": [
    "for i in range(len(models)):\n",
    "    print(models[i].name)\n",
    "    models[i].fit(train_split[i], label_train_split[i], 2, 1, 0.2)\n",
    "    print()\n",
    "    print()"
   ]
  },
  {
   "cell_type": "markdown",
   "metadata": {},
   "source": [
    "## Testing"
   ]
  },
  {
   "cell_type": "code",
   "execution_count": null,
   "metadata": {
    "tags": []
   },
   "outputs": [],
   "source": [
    "# TEST\n",
    "for model in models:\n",
    "    print(model.name)\n",
    "    model.predict(data_test_gen)"
   ]
  },
  {
   "cell_type": "markdown",
   "metadata": {},
   "source": [
    "## Pick Best Model"
   ]
  },
  {
   "cell_type": "code",
   "execution_count": null,
   "metadata": {},
   "outputs": [],
   "source": [
    "model = models[2]"
   ]
  },
  {
   "cell_type": "markdown",
   "metadata": {},
   "source": [
    "# SAVE & LOAD"
   ]
  },
  {
   "cell_type": "code",
   "execution_count": null,
   "metadata": {},
   "outputs": [],
   "source": [
    "model.save(\"save_model\")"
   ]
  },
  {
   "cell_type": "code",
   "execution_count": null,
   "metadata": {},
   "outputs": [],
   "source": [
    "model.load(\"save_model.json\")"
   ]
  },
  {
   "cell_type": "code",
   "execution_count": null,
   "metadata": {},
   "outputs": [],
   "source": [
    "model.predict(X_test)"
   ]
  }
 ],
 "metadata": {
  "kernelspec": {
   "display_name": "Python 3",
   "language": "python",
   "name": "python3"
  },
  "language_info": {
   "codemirror_mode": {
    "name": "ipython",
    "version": 3
   },
   "file_extension": ".py",
   "mimetype": "text/x-python",
   "name": "python",
   "nbconvert_exporter": "python",
   "pygments_lexer": "ipython3",
   "version": "3.9.7"
  },
  "vscode": {
   "interpreter": {
    "hash": "c9863654f73317bec94cda1bdb7b80ecbb4fd3c0d86145d415009309a0233a2d"
   }
  }
 },
 "nbformat": 4,
 "nbformat_minor": 4
}
